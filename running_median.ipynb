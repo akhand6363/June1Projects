{
 "cells": [
  {
   "cell_type": "code",
   "execution_count": 1,
   "metadata": {},
   "outputs": [],
   "source": [
    "import random"
   ]
  },
  {
   "cell_type": "code",
   "execution_count": 2,
   "metadata": {},
   "outputs": [
    {
     "name": "stdout",
     "output_type": "stream",
     "text": [
      "number of val:8\n"
     ]
    }
   ],
   "source": [
    "i=int(input('number of val:'))\n",
    "if i < 3 or i > 5000:\n",
    "    i=int(input('invalid input, try again: '))"
   ]
  },
  {
   "cell_type": "code",
   "execution_count": 3,
   "metadata": {},
   "outputs": [],
   "source": [
    "l=[]\n",
    "for val in range(i):\n",
    "    l.append(random.randint(-10,10))\n",
    "    "
   ]
  },
  {
   "cell_type": "code",
   "execution_count": 4,
   "metadata": {},
   "outputs": [
    {
     "data": {
      "text/plain": [
       "[9, 7, -9, 10, 4, 9, -10, 2]"
      ]
     },
     "execution_count": 4,
     "metadata": {},
     "output_type": "execute_result"
    }
   ],
   "source": [
    "l"
   ]
  },
  {
   "cell_type": "code",
   "execution_count": 8,
   "metadata": {},
   "outputs": [
    {
     "name": "stdout",
     "output_type": "stream",
     "text": [
      " list = [9] , -> [9] ,median = 9\n",
      " list = [9, 7] , -> [7, 9] ,median = 8.0\n",
      " list = [9, 7, -9] , -> [-9, 7, 9] ,median = 7\n",
      " list = [9, 7, -9, 10] , -> [-9, 7, 9, 10] ,median = 8.0\n",
      " list = [9, 7, -9, 10, 4] , -> [-9, 4, 7, 9, 10] ,median = 7\n",
      " list = [9, 7, -9, 10, 4, 9] , -> [-9, 4, 7, 9, 9, 10] ,median = 8.0\n",
      " list = [9, 7, -9, 10, 4, 9, -10] , -> [-10, -9, 4, 7, 9, 9, 10] ,median = 7\n",
      " list = [9, 7, -9, 10, 4, 9, -10, 2] , -> [-10, -9, 2, 4, 7, 9, 9, 10] ,median = 5.5\n"
     ]
    }
   ],
   "source": [
    "q=[]\n",
    "for i in l:\n",
    "    q.append(i)\n",
    "    #print('unsorted array : {0}'.format(q))\n",
    "    #q.sort()\n",
    "    p=sorted(q)\n",
    "    #print('sorted array : {0}'.format(q))\n",
    "    n=len(q)\n",
    "    if n%2==0:\n",
    "        m=int(n/2)\n",
    "        med=(p[m-1]+p[m])/2\n",
    "    else:\n",
    "        m=int(n//2)\n",
    "        med=p[m]\n",
    "    print(' list = {0} , -> {1} ,median = {2}'.format(q,p,med))"
   ]
  }
 ],
 "metadata": {
  "kernelspec": {
   "display_name": "Python 3",
   "language": "python",
   "name": "python3"
  },
  "language_info": {
   "codemirror_mode": {
    "name": "ipython",
    "version": 3
   },
   "file_extension": ".py",
   "mimetype": "text/x-python",
   "name": "python",
   "nbconvert_exporter": "python",
   "pygments_lexer": "ipython3",
   "version": "3.6.5"
  }
 },
 "nbformat": 4,
 "nbformat_minor": 2
}
