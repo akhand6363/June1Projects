{
 "cells": [
  {
   "cell_type": "code",
   "execution_count": 58,
   "metadata": {},
   "outputs": [],
   "source": [
    "import random"
   ]
  },
  {
   "cell_type": "code",
   "execution_count": 19,
   "metadata": {},
   "outputs": [
    {
     "name": "stdout",
     "output_type": "stream",
     "text": [
      "35\n",
      "80\n",
      "35\n"
     ]
    }
   ],
   "source": [
    "for i in range(3):\n",
    "    print( random.randrange(0, 101, 5))"
   ]
  },
  {
   "cell_type": "code",
   "execution_count": 20,
   "metadata": {},
   "outputs": [
    {
     "name": "stdout",
     "output_type": "stream",
     "text": [
      "number of val:7\n"
     ]
    }
   ],
   "source": [
    "i=int(input('number of val:'))\n",
    "if i < 3 or i > 5000:\n",
    "    i=int(input('invalid input, try again: '))"
   ]
  },
  {
   "cell_type": "code",
   "execution_count": 21,
   "metadata": {},
   "outputs": [],
   "source": [
    "l=[]\n",
    "for val in range(i):\n",
    "    l.append(random.randint(-10,10))"
   ]
  },
  {
   "cell_type": "code",
   "execution_count": 59,
   "metadata": {},
   "outputs": [
    {
     "name": "stdout",
     "output_type": "stream",
     "text": [
      "[7, -8, -5, -9, -5, 6, 1]\n"
     ]
    }
   ],
   "source": [
    "print(l)"
   ]
  },
  {
   "cell_type": "code",
   "execution_count": 23,
   "metadata": {},
   "outputs": [],
   "source": [
    "A=[-3,7,-2,3,5,-2]"
   ]
  },
  {
   "cell_type": "code",
   "execution_count": 25,
   "metadata": {},
   "outputs": [
    {
     "data": {
      "text/plain": [
       "6"
      ]
     },
     "execution_count": 25,
     "metadata": {},
     "output_type": "execute_result"
    }
   ],
   "source": [
    "len(A)"
   ]
  },
  {
   "cell_type": "code",
   "execution_count": 30,
   "metadata": {},
   "outputs": [
    {
     "name": "stdout",
     "output_type": "stream",
     "text": [
      "i:0\n",
      "1\n",
      "2\n",
      "3\n",
      "4\n",
      "5\n",
      "i:1\n",
      "2\n",
      "3\n",
      "4\n",
      "5\n",
      "i:2\n",
      "3\n",
      "4\n",
      "5\n",
      "i:3\n",
      "4\n",
      "5\n",
      "i:4\n",
      "5\n",
      "i:5\n"
     ]
    }
   ],
   "source": [
    "for i in range(len(A)):\n",
    "    print('i:'+ str(i))\n",
    "    for x in range(i+1,len(A)):\n",
    "        print(x)\n",
    "    "
   ]
  },
  {
   "cell_type": "code",
   "execution_count": 32,
   "metadata": {},
   "outputs": [],
   "source": [
    "def get_mult_val(a):\n",
    "    p=0\n",
    "    for f in range(len(a)):\n",
    "        for s in range(f+1,len(a)):\n",
    "            p+=a[f]*a[s]\n",
    "    return p"
   ]
  },
  {
   "cell_type": "code",
   "execution_count": 33,
   "metadata": {},
   "outputs": [
    {
     "name": "stdout",
     "output_type": "stream",
     "text": [
      "-18\n"
     ]
    }
   ],
   "source": [
    "r=get_mult_val(A)\n",
    "print(r)"
   ]
  },
  {
   "cell_type": "code",
   "execution_count": 35,
   "metadata": {},
   "outputs": [
    {
     "name": "stdout",
     "output_type": "stream",
     "text": [
      "21\n"
     ]
    }
   ],
   "source": [
    "b=[7,2,-1,2]\n",
    "r=get_mult_val(b)\n",
    "print(r)"
   ]
  },
  {
   "cell_type": "code",
   "execution_count": 67,
   "metadata": {},
   "outputs": [],
   "source": [
    "def get_highest_sum(a):\n",
    "    p=[]\n",
    "    m=0\n",
    "    h_p=[]\n",
    "    h_m=0\n",
    "    for f in range(len(a)):\n",
    "        print('f is {0}'.format(f))\n",
    "        for s in range(f+2,len(a)+1):\n",
    "            print('s is {0}'.format(s))\n",
    "            p=a[f:s]\n",
    "            m=get_mult_val(p)\n",
    "            print('sum of {0} is {1}'.format(p,m))\n",
    "            if h_m==0:\n",
    "                h_p=p\n",
    "                h_m=m\n",
    "            \n",
    "            \n",
    "            if m > h_m :\n",
    "                h_m=m\n",
    "                h_p=p\n",
    "                print('after comp sum of {0} is {1}'.format(h_p,h_m))\n",
    "                \n",
    "    print('highest subset is : {0}'.format(h_p))\n",
    "    print('multiplies value is : {0}'.format(h_m))"
   ]
  },
  {
   "cell_type": "code",
   "execution_count": 60,
   "metadata": {},
   "outputs": [
    {
     "name": "stdout",
     "output_type": "stream",
     "text": [
      "highest subset is : [7, -2, 3, 5]\n",
      "multiplies value is : 41\n"
     ]
    }
   ],
   "source": [
    "get_highest_sum(A)"
   ]
  },
  {
   "cell_type": "code",
   "execution_count": 62,
   "metadata": {},
   "outputs": [
    {
     "name": "stdout",
     "output_type": "stream",
     "text": [
      "highest subset is : [-8, -5, -9, -5]\n",
      "multiplies value is : 267\n"
     ]
    }
   ],
   "source": [
    "get_highest_sum(l)"
   ]
  },
  {
   "cell_type": "code",
   "execution_count": 68,
   "metadata": {},
   "outputs": [
    {
     "name": "stdout",
     "output_type": "stream",
     "text": [
      "f is 0\n",
      "s is 2\n",
      "sum of [0, 0] is 0\n",
      "s is 3\n",
      "sum of [0, 0, 1] is 0\n",
      "s is 4\n",
      "sum of [0, 0, 1, 2] is 2\n",
      "f is 1\n",
      "s is 3\n",
      "sum of [0, 1] is 0\n",
      "s is 4\n",
      "sum of [0, 1, 2] is 2\n",
      "f is 2\n",
      "s is 4\n",
      "sum of [1, 2] is 2\n",
      "f is 3\n",
      "highest subset is : [0, 0, 1, 2]\n",
      "multiplies value is : 2\n"
     ]
    }
   ],
   "source": [
    "lx=[0,0,1,2]\n",
    "get_highest_sum(lx)"
   ]
  },
  {
   "cell_type": "code",
   "execution_count": 77,
   "metadata": {},
   "outputs": [],
   "source": [
    "def get_highest_sum(a):\n",
    "    p=[]\n",
    "    m=0\n",
    "    h_p=[]\n",
    "    h_m=None\n",
    "    for f in range(len(a)):\n",
    "        print('f is {0}'.format(f))\n",
    "        for s in range(f+2,len(a)+1):\n",
    "            print('s is {0}'.format(s))\n",
    "            p=a[f:s]\n",
    "            m=get_mult_val(p)\n",
    "            print('sum of {0} is {1}'.format(p,m))\n",
    "            if h_m==None:\n",
    "                h_p.append(p)\n",
    "                h_m=m\n",
    "            \n",
    "            \n",
    "            if m == h_m :\n",
    "                h_m=m\n",
    "                h_p.append(p)\n",
    "                print('after comp sum of {0} is {1}'.format(h_p,h_m))\n",
    "            elif m > h_m:\n",
    "                print('in greater than')\n",
    "                h_m=m\n",
    "                h_p=[]\n",
    "                h_p.append(p)\n",
    "                \n",
    "    print('highest subset is : {0}'.format(h_p))\n",
    "    print('multiplies value is : {0}'.format(h_m))"
   ]
  },
  {
   "cell_type": "code",
   "execution_count": 78,
   "metadata": {},
   "outputs": [
    {
     "name": "stdout",
     "output_type": "stream",
     "text": [
      "f is 0\n",
      "s is 2\n",
      "sum of [0, 0] is 0\n",
      "after comp sum of [[0, 0], [0, 0]] is 0\n",
      "s is 3\n",
      "sum of [0, 0, 1] is 0\n",
      "after comp sum of [[0, 0], [0, 0], [0, 0, 1]] is 0\n",
      "s is 4\n",
      "sum of [0, 0, 1, 2] is 2\n",
      "in greater than\n",
      "f is 1\n",
      "s is 3\n",
      "sum of [0, 1] is 0\n",
      "s is 4\n",
      "sum of [0, 1, 2] is 2\n",
      "after comp sum of [[0, 0, 1, 2], [0, 1, 2]] is 2\n",
      "f is 2\n",
      "s is 4\n",
      "sum of [1, 2] is 2\n",
      "after comp sum of [[0, 0, 1, 2], [0, 1, 2], [1, 2]] is 2\n",
      "f is 3\n",
      "highest subset is : [[0, 0, 1, 2], [0, 1, 2], [1, 2]]\n",
      "multiplies value is : 2\n"
     ]
    }
   ],
   "source": [
    "lx=[0,0,1,2]\n",
    "get_highest_sum(lx)"
   ]
  },
  {
   "cell_type": "code",
   "execution_count": 79,
   "metadata": {},
   "outputs": [
    {
     "name": "stdout",
     "output_type": "stream",
     "text": [
      "f is 0\n",
      "s is 2\n",
      "sum of [0, 0] is 0\n",
      "after comp sum of [[0, 0], [0, 0]] is 0\n",
      "s is 3\n",
      "sum of [0, 0, 1] is 0\n",
      "after comp sum of [[0, 0], [0, 0], [0, 0, 1]] is 0\n",
      "s is 4\n",
      "sum of [0, 0, 1, 2] is 2\n",
      "in greater than\n",
      "s is 5\n",
      "sum of [0, 0, 1, 2, 0] is 2\n",
      "after comp sum of [[0, 0, 1, 2], [0, 0, 1, 2, 0]] is 2\n",
      "f is 1\n",
      "s is 3\n",
      "sum of [0, 1] is 0\n",
      "s is 4\n",
      "sum of [0, 1, 2] is 2\n",
      "after comp sum of [[0, 0, 1, 2], [0, 0, 1, 2, 0], [0, 1, 2]] is 2\n",
      "s is 5\n",
      "sum of [0, 1, 2, 0] is 2\n",
      "after comp sum of [[0, 0, 1, 2], [0, 0, 1, 2, 0], [0, 1, 2], [0, 1, 2, 0]] is 2\n",
      "f is 2\n",
      "s is 4\n",
      "sum of [1, 2] is 2\n",
      "after comp sum of [[0, 0, 1, 2], [0, 0, 1, 2, 0], [0, 1, 2], [0, 1, 2, 0], [1, 2]] is 2\n",
      "s is 5\n",
      "sum of [1, 2, 0] is 2\n",
      "after comp sum of [[0, 0, 1, 2], [0, 0, 1, 2, 0], [0, 1, 2], [0, 1, 2, 0], [1, 2], [1, 2, 0]] is 2\n",
      "f is 3\n",
      "s is 5\n",
      "sum of [2, 0] is 0\n",
      "f is 4\n",
      "highest subset is : [[0, 0, 1, 2], [0, 0, 1, 2, 0], [0, 1, 2], [0, 1, 2, 0], [1, 2], [1, 2, 0]]\n",
      "multiplies value is : 2\n"
     ]
    }
   ],
   "source": [
    "lx=[0,0,1,2,0]\n",
    "get_highest_sum(lx)"
   ]
  }
 ],
 "metadata": {
  "kernelspec": {
   "display_name": "Python 3",
   "language": "python",
   "name": "python3"
  },
  "language_info": {
   "codemirror_mode": {
    "name": "ipython",
    "version": 3
   },
   "file_extension": ".py",
   "mimetype": "text/x-python",
   "name": "python",
   "nbconvert_exporter": "python",
   "pygments_lexer": "ipython3",
   "version": "3.6.5"
  }
 },
 "nbformat": 4,
 "nbformat_minor": 2
}
